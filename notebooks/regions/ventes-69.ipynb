{
 "cells": [
  {
   "cell_type": "code",
   "execution_count": null,
   "id": "dc6b623b",
   "metadata": {},
   "outputs": [],
   "source": [
    "import pandas as pd\n",
    "df = pd.read_csv(\"../data/annonces-ventes-69.csv\",delimiter=';',header=0,encoding=\"iso-8859-1\",low_memory=False)\n",
    "print (df.shape)\n",
    "display(df.head(20))\n",
    "df_m = df [df.typedebien == \"m\"]\n",
    "print (df_m.shape)\n",
    "print (df_m.info())\n",
    "df_a = df [df.typedebien == \"a\"]\n",
    "print (df_a.shape)\n",
    "print (df_a.info())"
   ]
  }
 ],
 "metadata": {
  "kernelspec": {
   "display_name": "immocv-Hc0iPIjN-py3.11",
   "language": "python",
   "name": "python3"
  },
  "language_info": {
   "codemirror_mode": {
    "name": "ipython",
    "version": 3
   },
   "file_extension": ".py",
   "mimetype": "text/x-python",
   "name": "python",
   "nbconvert_exporter": "python",
   "pygments_lexer": "ipython3",
   "version": "3.11.13"
  }
 },
 "nbformat": 4,
 "nbformat_minor": 5
}
