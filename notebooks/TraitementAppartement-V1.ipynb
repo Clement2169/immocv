{
 "cells": [
  {
   "cell_type": "code",
   "execution_count": null,
   "id": "c6963701",
   "metadata": {},
   "outputs": [],
   "source": [
    "#  import main packages\n",
    "import pandas as pd\n",
    "import numpy as np\n",
    "import matplotlib.pyplot as plt\n",
    "import seaborn as sns\n",
    "import os\n",
    "from pathlib import Path"
   ]
  },
  {
   "cell_type": "code",
   "execution_count": null,
   "id": "9df2e534",
   "metadata": {},
   "outputs": [],
   "source": [
    "# define variables\n",
    "immo_vis_dir = \"../../data/immo_vis/\"\n",
    "parquet_extension = \".parquet\"\n",
    "metropole_appartement_file = \"ventes-metropole-appartement\" + parquet_extension\n",
    "metropole_maison_file = \"ventes-metropole-maison\" + parquet_extension"
   ]
  },
  {
   "cell_type": "code",
   "execution_count": null,
   "id": "f70b8c7f",
   "metadata": {},
   "outputs": [],
   "source": [
    "# import appartement file\n",
    "\n",
    "start_path = Path(immo_vis_dir)\n",
    "final_path = start_path / metropole_appartement_file\n",
    "final_path.as_posix\n",
    "df= pd.read_parquet(final_path.as_posix())"
   ]
  },
  {
   "cell_type": "code",
   "execution_count": null,
   "id": "5b283a33",
   "metadata": {},
   "outputs": [],
   "source": [
    "#  print main infos on appartmeent file\n",
    "\n",
    "nb_rows= df.shape[0]\n",
    "nb_cols= df.shape[1]\n",
    "print ( f\" {metropole_appartement_file} rows {nb_rows} columns {nb_cols}\")\n",
    "print (df.shape)\n",
    "print (df.columns)\n",
    "print (df.info())\n",
    "print (df.describe())\n",
    "\n"
   ]
  },
  {
   "cell_type": "code",
   "execution_count": null,
   "id": "a32af3fb",
   "metadata": {},
   "outputs": [],
   "source": [
    "#  print columns modalities\n",
    "for i in df.columns:\n",
    "    print(f'modalities  {i} are : ',(df[i].nunique()))"
   ]
  },
  {
   "cell_type": "code",
   "execution_count": null,
   "id": "488e524c",
   "metadata": {},
   "outputs": [],
   "source": [
    "#  print comlmns nan values\n",
    "for i in df.columns:\n",
    "    print(f' {i} nan values {df[i].isna().sum()}  {(100*df[i].isna().sum()/len(df)):.2f}%')"
   ]
  },
  {
   "cell_type": "code",
   "execution_count": null,
   "id": "edf28981",
   "metadata": {},
   "outputs": [],
   "source": [
    "# analyze type de bien\n",
    "print (df['typedebien'].value_counts()) \n",
    "print (df['logement_neuf'].value_counts()) \n",
    "# print (df['typedebien'].value_counts(normalize=True)*100)\n",
    "appartement_anciens = df.loc[df[\"typedebien\"] == \"a\"]\n",
    "appartement_neufs = df.loc[df[\"typedebien\"] == \"an\"]\n",
    "\n",
    "logement_anciens = df.loc[df[\"typedebien\"] == \"o\"]\n",
    "logement_neufs = df.loc[df[\"typedebien\"] == \"n\"]\n",
    "\n",
    "print (\"appartement_neufs\", appartement_neufs[\"logement_neuf\"].value_counts())\n",
    "print (\"appartement_anciens\", appartement_anciens[\"logement_neuf\"].value_counts())\n",
    "\n",
    "\n",
    "# select apppr\n",
    "print (\"appartements anciens , logement ancien \", appartement_anciens[appartement_anciens[\"logement_neuf\"]== \"o\"].shape[0])\n",
    "print (\"appartements anciens , logement neuf \", appartement_anciens[appartement_anciens[\"logement_neuf\"]== \"n\"].shape[0])\n",
    "\n",
    "print (\"appartements neufs , logement neuf \", appartement_neufs[appartement_neufs[\"logement_neuf\"]== \"n\"].shape[0])\n",
    "print (\"appartements neufs , logement ancien \", appartement_neufs[appartement_neufs[\"logement_neuf\"]== \"o\"].shape[0])\n",
    "\n",
    "print (f\" prix vente m2 appartements anciens  {appartement_anciens['prix_m2_vente'].median()}\" )\n",
    "print (f\" prix vente m2 appartement_neufs {appartement_neufs['prix_m2_vente'].median()}\")\n",
    "\n",
    "print (f\" prix vente m2 logements anciens  {logement_anciens['prix_m2_vente'].median()}\" )\n",
    "print (f\" prix vente m2 logements neufs {logement_neufs['prix_m2_vente'].median()}\")\n",
    "\n",
    "print (f\" dpeL appartements anciens  {appartement_anciens['dpeL'].mode()[0]}\" )\n",
    "print (f\" dpeL  appartement_neufs {appartement_neufs['dpeL'].mode()[0]}\")\n",
    "\n",
    "print (\"logement_neuf is not a relaible criteria\")"
   ]
  },
  {
   "cell_type": "code",
   "execution_count": null,
   "id": "f0bb83c9",
   "metadata": {},
   "outputs": [],
   "source": [
    "#  modify logement_neuf according to type de bien\n",
    "mask = (df[\"typedebien\"] == \"an\") & (df[\"logement_neuf\"]== \"o\")\n",
    "df.loc[mask,'logement_neuf'] =\"n\"\n",
    "\n",
    "mask = (df[\"typedebien\"] == \"a\") & (df[\"logement_neuf\"]== \"n\")\n",
    "df.loc[mask,'logement_neuf'] =\"o\"\n",
    "\n",
    "# replace an by a\n",
    "df.loc[:,'typedebien'] =\"a\"\n",
    "\n",
    "# process logement neuf as integer\n",
    "df['logement_neuf'] = df['logement_neuf'].replace(['o','n'],[1,0])\n",
    "\n",
    "print (df.typedebien.value_counts())\n",
    "print (df.logement_neuf.value_counts())\n",
    "\n"
   ]
  },
  {
   "cell_type": "markdown",
   "id": "0d087999",
   "metadata": {},
   "source": [
    "## Eliminate columns that are not relevant"
   ]
  },
  {
   "cell_type": "code",
   "execution_count": null,
   "id": "533a788c",
   "metadata": {},
   "outputs": [],
   "source": [
    "#rendre index=idannonce pour retrouver la ligne initiale\n",
    "df.set_index('idannonce',drop=True,inplace=True)\n",
    "\n",
    "#supprimer les colonnes non pertinentes pour les maisons\n",
    "df.drop(columns=['type_annonceur', 'typedebien', 'typedetransaction',\n",
    "       'prix_maison', 'prix_terrain', 'mensualiteFinance',\"surface_terrain\",\n",
    "    #    'dpeC', #pas d'information supplémentaire sur dpeC par rapport à dpeL\n",
    "    #    'date','eau',\n",
    "       'categorie_annonceur',  'date', 'INSEE_COM', 'IRIS', 'duree_int',\n",
    "       'TYP_IRIS_x', 'TYP_IRIS_y', 'GRD_QUART', 'UU2010', 'REG', \n",
    "       'loyer_m2_median_n6', 'nb_log_n6', 'taux_rendement_n6',\n",
    "       'loyer_m2_median_n7', 'nb_log_n7', 'taux_rendement_n7'], \n",
    "       inplace=True)"
   ]
  },
  {
   "cell_type": "markdown",
   "id": "5548196d",
   "metadata": {},
   "source": [
    "## Process prix_m2_vente"
   ]
  },
  {
   "cell_type": "code",
   "execution_count": null,
   "id": "32b05209",
   "metadata": {},
   "outputs": [],
   "source": [
    "# pre-analyse prix de vente au m2\n",
    "\n",
    "plt.figure(figsize=(22,6))\n",
    "plt.subplot(151)\n",
    "sns.boxplot(df['prix_m2_vente'])\n",
    "plt.subplot(152)\n",
    "sns.histplot(df['prix_m2_vente'])\n",
    "plt.subplot(153)\n",
    "sns.scatterplot (df,x=\"surface\",y=\"prix_m2_vente\")\n",
    "plt.show()\n"
   ]
  },
  {
   "cell_type": "code",
   "execution_count": null,
   "id": "9e9141a8",
   "metadata": {},
   "outputs": [],
   "source": [
    "\n",
    "\n",
    "# remove outliers\n",
    "\n",
    "colonnes_num_prim = ['surface',  'prix_m2_vente']\n",
    "\n",
    "# Création du masque en utilisant apply\n",
    "mask = df[colonnes_num_prim].apply(lambda x: (x >= x.quantile(0.005)) & (x <= x.quantile(0.995))| x.isna()).all(axis=1)\n",
    "#ne garder que les lignes qui sont entre q=0.005 et q=0.995\n",
    "df=df[mask]\n",
    "#Vérification des résultats\n",
    "df[colonnes_num_prim].describe()\n",
    "\n",
    "(df['prix_m2_vente']*df['surface']-df['prix_bien']).describe()\n",
    "\n",
    "\n",
    "plt.figure(figsize=(22,6))\n",
    "plt.subplot(151)\n",
    "sns.boxplot(df['prix_m2_vente'])\n",
    "plt.subplot(152)\n",
    "sns.histplot(df['prix_m2_vente'])\n",
    "plt.subplot(153)\n",
    "sns.scatterplot (df,x=\"surface\",y=\"prix_m2_vente\")\n",
    "plt.show()\n",
    "\n",
    "# "
   ]
  },
  {
   "cell_type": "markdown",
   "id": "5f87d7ac",
   "metadata": {},
   "source": [
    "## Traitement des colonnes  "
   ]
  },
  {
   "cell_type": "code",
   "execution_count": null,
   "id": "dc6a470b",
   "metadata": {},
   "outputs": [],
   "source": [
    "# analyse NA values\n",
    "import matplotlib.ticker as mtick\n",
    "\n",
    "missing_values = df.isna().sum()\n",
    "missing_values = missing_values[missing_values > 0].sort_values(ascending=False)\n",
    "# full_columns = df.columns[ df.isna().any() == False ]\n",
    "print (f\" nb_rows {nb_rows} nb_cols {nb_cols}\")\n",
    "# print(f\"columns without Nan values {full_columns.size} / {nb_cols}\" )\n",
    "# print (f\"columns without Nans {full_columns}\")\n",
    "# print (missing_values)\n",
    "plt.figure(figsize=(20,6))\n",
    "ax = plt.subplot(121)\n",
    "plt.plot (missing_values.index,missing_values.values)\n",
    "plt.axhline(y=int(nb_rows/2), color='r', linestyle='--', label='50%')\n",
    "plt.axhline(y=int(nb_rows*0.9), color='b', linestyle='--', label='90%')\n",
    "plt.legend()\n",
    "\n",
    "plt.xticks(rotation=80)\n",
    "plt.title(f\"Missing values  nb-rows = {nb_rows}\")\n",
    "ax2 = plt.subplot(122)\n",
    "missing_values_percent = (missing_values/nb_rows)*100.0\n",
    "plt.plot (missing_values_percent.index,missing_values_percent.values)\n",
    "plt.axhline(y=50.0, color='r', linestyle='--', label='50%')\n",
    "plt.axhline(y=90.0, color='b', linestyle='--', label='90%')\n",
    "plt.xticks(rotation=80)\n",
    "ax2.yaxis.set_major_formatter(mtick.PercentFormatter(100)) \n",
    "plt.title(f\"Missing values  percentage\")\n",
    "plt.legend()\n",
    "plt.show()\n"
   ]
  },
  {
   "cell_type": "markdown",
   "id": "0ed0f51e",
   "metadata": {},
   "source": [
    "## Process columns with too many NANs"
   ]
  },
  {
   "cell_type": "code",
   "execution_count": null,
   "id": "6f7ffc3a",
   "metadata": {},
   "outputs": [],
   "source": [
    "# detect  columns with too many NANs (90%)\n",
    "print (df.shape)\n",
    "threshold = .9\n",
    "nan_cols = []\n",
    "for name,_ in df.items() :\n",
    "    if df[name].isna().sum()/nb_rows> threshold :\n",
    "        nan_cols.append(name) \n",
    "print (f\"empty cols {nan_cols}\")"
   ]
  },
  {
   "cell_type": "code",
   "execution_count": null,
   "id": "394ea833",
   "metadata": {},
   "outputs": [],
   "source": [
    "# remove nan cols > threshold\n",
    "df = df.drop(columns=nan_cols)"
   ]
  },
  {
   "cell_type": "markdown",
   "id": "503c9124",
   "metadata": {},
   "source": [
    "## Process numerical columns"
   ]
  },
  {
   "cell_type": "code",
   "execution_count": null,
   "id": "696a99e6",
   "metadata": {},
   "outputs": [],
   "source": [
    "# scatter plot of numerical variables / prix_m2_vente \n",
    "columns = df.select_dtypes(include='number').columns.tolist()\n",
    "df.sort_values(by=\"prix_m2_vente\",ascending=True)\n",
    "nrows = int(len(columns)/4) +1\n",
    "fig , axes = plt.subplots(nrows = nrows, ncols = 4, figsize = (30,nrows*4))\n",
    "index = 0\n",
    "for column in columns :\n",
    "    if column not in [\"idannonce\",\"date\"] :\n",
    "        sns.scatterplot(ax=axes[int(index/4),index%4],y=df[\"prix_m2_vente\"],x=df[column])\n",
    "        index = index +1\n"
   ]
  },
  {
   "cell_type": "code",
   "execution_count": null,
   "id": "5424a19c",
   "metadata": {},
   "outputs": [],
   "source": [
    "# remove outliers .99 % except nb_logements_copro, charges_copro\n",
    "\n",
    "#  etage contains negative values\n",
    "df.loc[:,'etage'] = df['etage'].abs() \n",
    "\n",
    "columns = ['bain', 'nb_toilettes', 'nb_pieces','eau','bain','nb_pieces','nb_terraces','balcon','places_parking','nb_etages','etage']\n",
    "#limiter les colonnes à q=0.99 pour éliminer les outliers\n",
    "threshold = 0.99\n",
    "for column in columns :\n",
    "    df.loc[:,column] = df[column].clip(upper=df[column].quantile(threshold))\n"
   ]
  },
  {
   "cell_type": "code",
   "execution_count": null,
   "id": "8598d0b4",
   "metadata": {},
   "outputs": [],
   "source": [
    "# display \n",
    "nrows = int(len(columns)/4) +1\n",
    "fig , axes = plt.subplots(nrows = nrows, ncols = 4, figsize = (30,15*nrows))\n",
    "index = 0\n",
    "for column in columns :\n",
    "    sns.scatterplot(ax=axes[int(index/4),index%4],y=df[\"prix_m2_vente\"],x=df[column])\n",
    "    index = index +1\n"
   ]
  },
  {
   "cell_type": "code",
   "execution_count": null,
   "id": "1bd5623a",
   "metadata": {},
   "outputs": [],
   "source": [
    "#  remove Nan values for numerical columns\n",
    "columns = df.select_dtypes(include='number').columns.tolist()\n",
    "print (df[columns].isna().sum())\n"
   ]
  },
  {
   "cell_type": "code",
   "execution_count": null,
   "id": "4b72f58c",
   "metadata": {},
   "outputs": [],
   "source": [
    "\n",
    "#  place de parking\n",
    "df[\"places_parking\"] = df[\"places_parking\"].fillna(0) \n",
    "# nombres de toilettes ( can not be guessed)\n",
    "df[\"nb_toilettes\"] = df[\"nb_toilettes\"].fillna(1).astype(int)\n",
    "# logement neuf\n",
    "df[\"logement_neuf\"] = df[\"logement_neuf\"].fillna(0)\n",
    "#  nombre de terraces\n",
    "df[\"nb_terraces\"] = df[\"nb_terraces\"].fillna(0)\n",
    "df.loc[:,\"nb_terraces\"] = 0\n",
    "\n",
    "print (df[columns].isna().sum())\n",
    "\n"
   ]
  },
  {
   "cell_type": "code",
   "execution_count": null,
   "id": "12ff203b",
   "metadata": {},
   "outputs": [],
   "source": [
    "# nb etages\n",
    "print (df.nb_etages.value_counts(dropna=False))\n",
    "fig = plt.figure(figsize=(16,8))\n",
    "sns.countplot(data=df,x=df.nb_etages)\n",
    "df[\"nb_etages\"]= df[\"nb_etages\"].fillna(df[\"nb_etages\"].median())"
   ]
  },
  {
   "cell_type": "code",
   "execution_count": null,
   "id": "9d56f267",
   "metadata": {},
   "outputs": [],
   "source": [
    "# annee de construction\n",
    "print (df.nb_logements_copro.value_counts(dropna=False,normalize=True))\n",
    "sns.scatterplot(y=df[\"prix_m2_vente\"],x=df[\"annee_construction\"])\n",
    "df[\"annee_construction\"]= df[\"annee_construction\"].fillna(0)\n"
   ]
  },
  {
   "cell_type": "code",
   "execution_count": null,
   "id": "c8bd2739",
   "metadata": {},
   "outputs": [],
   "source": [
    "# nb logmeent copro\n",
    "threshold=0.95\n",
    "column=\"nb_logements_copro\"\n",
    "print (df[column].value_counts(dropna=False,normalize=True))\n",
    "sns.scatterplot(y=df[\"prix_m2_vente\"],x=df[column])\n",
    "plt.show()\n",
    "df.loc[:,column] = df[column].clip(upper=df[column].quantile(threshold))\n",
    "sns.scatterplot(y=df[\"prix_m2_vente\"],x=df[column])\n",
    "plt.show()\n",
    "print (df[column].median())\n",
    "df[column]= df[column].fillna(0)\n",
    "\n"
   ]
  },
  {
   "cell_type": "code",
   "execution_count": null,
   "id": "97146f36",
   "metadata": {},
   "outputs": [],
   "source": [
    "# charges copro\n",
    "threshold=0.95\n",
    "column=\"charges_copro\"\n",
    "print (df[column].value_counts(dropna=False,normalize=True))\n",
    "sns.scatterplot(y=df[\"prix_m2_vente\"],x=df[column])\n",
    "plt.show()\n",
    "df.loc[:,column] = df[column].clip(upper=df[column].quantile(threshold))\n",
    "sns.scatterplot(y=df[\"prix_m2_vente\"],x=df[column])\n",
    "plt.show()\n",
    "print (df[column].median())\n",
    "df[column]= df[column].fillna(0)\n",
    "\n"
   ]
  },
  {
   "cell_type": "code",
   "execution_count": null,
   "id": "530e46e5",
   "metadata": {},
   "outputs": [],
   "source": [
    "#  remove Nan values for numerical columns\n",
    "columns = df.select_dtypes(include='number').columns.tolist()\n",
    "print (df[columns].isna().sum())"
   ]
  },
  {
   "cell_type": "code",
   "execution_count": null,
   "id": "9f1287b4",
   "metadata": {},
   "outputs": [],
   "source": [
    "column=\"dpeC\"\n",
    "threshold=.99\n",
    "print (df[column].value_counts(dropna=False,normalize=True))\n",
    "df.loc[:,column] = df[column].clip(upper=df[column].quantile(threshold))\n",
    "fig = plt.figure(figsize=(16,8))\n",
    "sns.scatterplot(y=df[column],x=df[\"dpeL\"])\n",
    "plt.show()\n",
    "result = df.groupby(\"dpeL\")[column].mean()\n",
    "print (result)\n",
    "fig = plt.figure(figsize=(16,8))\n",
    "sns.scatterplot(y=result.values,x=result.index)\n",
    "plt.show()"
   ]
  },
  {
   "cell_type": "code",
   "execution_count": null,
   "id": "6769686a",
   "metadata": {},
   "outputs": [],
   "source": [
    "#  drop dpeC : colinearity with dpeL\n",
    "column=\"dpeC\"\n",
    "df = df.drop(columns=[column])"
   ]
  },
  {
   "cell_type": "code",
   "execution_count": null,
   "id": "c21c60cb",
   "metadata": {},
   "outputs": [],
   "source": [
    "#  remove Nan values for numerical columns\n",
    "columns = df.select_dtypes(include='number').columns.tolist()\n",
    "print (df[columns].isna().sum())\n"
   ]
  },
  {
   "cell_type": "markdown",
   "id": "35bbc158",
   "metadata": {},
   "source": [
    "## Process categorial columns"
   ]
  },
  {
   "cell_type": "code",
   "execution_count": null,
   "id": "3c0a64ca",
   "metadata": {},
   "outputs": [],
   "source": []
  }
 ],
 "metadata": {
  "kernelspec": {
   "display_name": "immocv-Hc0iPIjN-py3.11",
   "language": "python",
   "name": "python3"
  },
  "language_info": {
   "codemirror_mode": {
    "name": "ipython",
    "version": 3
   },
   "file_extension": ".py",
   "mimetype": "text/x-python",
   "name": "python",
   "nbconvert_exporter": "python",
   "pygments_lexer": "ipython3",
   "version": "3.11.13"
  }
 },
 "nbformat": 4,
 "nbformat_minor": 5
}
