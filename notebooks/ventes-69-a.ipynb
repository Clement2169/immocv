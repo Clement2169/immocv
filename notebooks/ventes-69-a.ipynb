{
 "cells": [
  {
   "cell_type": "code",
   "execution_count": null,
   "id": "dc6b623b",
   "metadata": {},
   "outputs": [],
   "source": [
    "import pandas as pd\n",
    "df = pd.read_csv(\"../../data/annonces-ventes-69.csv\",delimiter=';',header=0,encoding=\"UTF-8\",low_memory=False)\n",
    "print (df.shape)\n",
    "# display(df.head(20))\n",
    "df = df [df.typedebien == \"a\"]\n",
    "print (df.info())\n"
   ]
  },
  {
   "cell_type": "code",
   "execution_count": null,
   "id": "7a323b16",
   "metadata": {},
   "outputs": [],
   "source": [
    "# drop empy columns\n",
    "print (df.shape)\n",
    "# threshold = 90%\n",
    "threshold = int(df.shape[0]*0.9)\n",
    "empty_cols = []\n",
    "for name,_ in df.items() :\n",
    "    if df[name].isna().sum() > threshold :\n",
    "        empty_cols.append(name) \n",
    "print (f\"empty cols {empty_cols}\")\n",
    "# remove empty cols\n",
    "df = df.drop(columns=empty_cols)\n",
    "print(df.isna().sum())\n",
    "# remove unnecessary columns\n",
    "columns = [\"typedebien\",\"typedetransaction\",\"mensualiteFinance\",\"nb_terraces\",\"REG\",\"DEP\"]\n",
    "df = df.drop(columns=columns)\n",
    "# check for columns content\n",
    "for column in df.columns:\n",
    "    print(f\"{column}: {df[column].unique()}\")\n",
    "columns = [\"type_annonceur\",\"typedebien_lite\",'duree_int']\n",
    "df = df.drop(columns=columns)"
   ]
  },
  {
   "cell_type": "code",
   "execution_count": null,
   "id": "b2be3392",
   "metadata": {},
   "outputs": [],
   "source": [
    "#keep rows with no Nans\n",
    "#keep rows with no Nans on these attributes\n",
    "\n",
    "subset = [\"chauffage_mode\",\"chauffage_systeme\",\"chauffage_energie\",\"annee_construction\",\"cave\",\"charges_copro\",\"ascenseur\"]\n",
    "df= df.dropna(subset=subset)\n",
    "print(df.shape)\n",
    "df.isna().sum()\n",
    "df.info()\n",
    "\n",
    "for column in df.columns:\n",
    "    print(f\"{column}: {df[column].unique()}\")\n",
    "\n",
    "# with pd.option_context('display.max_rows', None, 'display.max_columns', None):\n",
    "#         display(df.head(100))\n"
   ]
  },
  {
   "cell_type": "code",
   "execution_count": null,
   "id": "e0ae64ed",
   "metadata": {},
   "outputs": [],
   "source": [
    "\n",
    "\n",
    "# clean column nb_logements_copro\n",
    "df[\"nb_logements_copro\"] = df[\"nb_logements_copro\"].fillna(df[\"nb_logements_copro\"].mean()).astype(\"int\")\n",
    "df[\"nb_logements_copro\"].unique()\n",
    "\n",
    "# clean anne construction \n",
    "df[\"annee_construction\"] = df[\"annee_construction\"].fillna(df[\"annee_construction\"].mean())\n",
    "df[\"annee_construction\"] = df[\"annee_construction\"].astype(\"int\")\n",
    "df[\"annee_construction\"].unique()\n",
    "\n",
    "# places parking , set nan to zero\n",
    "df[\"places_parking\"] = df[\"places_parking\"].fillna(0)\n",
    "df[\"places_parking\"] = df[\"places_parking\"].astype(\"int\")\n",
    "df[\"places_parking\"].unique()\n",
    "\n",
    "# dpe \n",
    "df[\"dpeL\"] = df[\"dpeL\"].replace(to_replace=[\"D - 231 kWh/m².year\",\"D-218 kWh/m².year\",\"Blank\"],value=[\"D\",\"D\",\"U\"])\n",
    "df[\"dpeL\"].unique()\n",
    "\n",
    "# replace Électricité by Elec\n",
    "print(df[\"chauffage_energie\"].unique())\n",
    "df[\"chauffage_energie\"] = df[\"chauffage_energie\"].replace(to_replace=[\"Électrique\"],value=[\"Elec\"])\n",
    "print(df[\"chauffage_energie\"].value_counts())\n",
    "\n",
    "# gaz a effet de serre : set to unknown\n",
    "print(df[\"ges_class\"].isna().sum())\n",
    "df[\"ges_class\"] = df[\"ges_class\"].fillna(\"U\")\n",
    "print(df[\"ges_class\"].value_counts())\n",
    "\n",
    "#  clarify exposition\n",
    "df[\"exposition\"] = df[\"exposition\"].replace(to_replace=[\"0\"],value=[\"Unknown\"])\n",
    "df[\"exposition\"] = df[\"exposition\"].replace(to_replace=[\"N\",\"NO\",\"NS\",\"Nord-Sud\",\"Nord Est Ouest\"],value=[\"Nord\",\"Nord-Ouest\",\"Nord\",\"Nord\",\"Nord-Est\"])\n",
    "df[\"exposition\"] = df[\"exposition\"].replace(to_replace=[\"SO\"],value=[\"Sud-Ouest\"])\n",
    "df[\"exposition\"] = df[\"exposition\"].replace(to_replace=[\"Sud-Est-Ouest\"],value=[\"Sud-Est\"])\n",
    "df[\"exposition\"] = df[\"exposition\"].replace(to_replace=[\"Est-Ouest\"],value=[\"Est\"])\n",
    "print(df[\"exposition\"].value_counts())\n",
    "\n",
    "df[\"nb_toilettes\"] = df[\"nb_toilettes\"].fillna(1).astype(int)\n",
    "print (df[\"nb_toilettes\"].isna().sum())\n",
    "\n",
    "df[\"dpeC\"] = df[\"dpeC\"].fillna(0)\n",
    "print (df[\"dpeC\"].isna().sum())\n",
    "\n",
    "nb_etage = df['nb_etages'].value_counts().index[0]\n",
    "df[\"nb_etages\"] = df[\"nb_etages\"].fillna(nb_etage).astype(int)\n",
    "print(f\" etages {df['nb_etages'].value_counts()}\")\n",
    "\n",
    "print (df['porte_digicode'].isna().sum())\n",
    "df[\"porte_digicode\"] = df[\"porte_digicode\"].fillna(False)\n",
    "\n",
    "attributes = [\"loyer_m2_median_n6\",\"nb_log_n6\",\"taux_rendement_n6\"]\n",
    "for attribute in attributes :\n",
    "    df[attribute]= df[attribute].fillna(0)\n",
    "    \n",
    "attributes = [\"loyer_m2_median_n7\",\"nb_log_n7\",\"taux_rendement_n7\"]\n",
    "for attribute in attributes :\n",
    "    df[attribute]= df[attribute].fillna(0)"
   ]
  },
  {
   "cell_type": "code",
   "execution_count": null,
   "id": "82da0906",
   "metadata": {},
   "outputs": [],
   "source": [
    "df.isna().sum()"
   ]
  }
 ],
 "metadata": {
  "kernelspec": {
   "display_name": "immocv-Hc0iPIjN-py3.11",
   "language": "python",
   "name": "python3"
  },
  "language_info": {
   "codemirror_mode": {
    "name": "ipython",
    "version": 3
   },
   "file_extension": ".py",
   "mimetype": "text/x-python",
   "name": "python",
   "nbconvert_exporter": "python",
   "pygments_lexer": "ipython3",
   "version": "3.11.13"
  }
 },
 "nbformat": 4,
 "nbformat_minor": 5
}
