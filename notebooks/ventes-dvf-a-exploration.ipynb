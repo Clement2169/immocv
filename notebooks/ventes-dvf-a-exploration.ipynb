{
 "cells": [
  {
   "cell_type": "code",
   "execution_count": null,
   "id": "df28f8e5",
   "metadata": {},
   "outputs": [],
   "source": [
    "import pandas as pd\n",
    "import numpy as np\n",
    "import pyarrow\n",
    "import seaborn as sns\n",
    "import matplotlib.pyplot as plt"
   ]
  },
  {
   "cell_type": "code",
   "execution_count": null,
   "id": "bcf7b44c",
   "metadata": {},
   "outputs": [],
   "source": [
    "df = pd.read_parquet (\"../../data/dvf_vente_appartement.parquet\")\n",
    "print (df.shape)\n",
    "print (df.info())"
   ]
  },
  {
   "cell_type": "code",
   "execution_count": null,
   "id": "8692cdc9",
   "metadata": {},
   "outputs": [],
   "source": [
    "print(df.value_counts(\"valeur_fonciere\"))\n",
    "df['valeur_fonciere'] = df['valeur_fonciere'].apply(lambda x : 30000000 if x > 30000000 else x)\n",
    "df1 = df.sort_values(by=[\"code_departement\"])\n",
    "plt.figure(figsize=(30,10))\n",
    "sns.scatterplot(y=df1[\"valeur_fonciere\"],x=df1[\"code_departement\"])\n",
    "plt.show()"
   ]
  },
  {
   "cell_type": "code",
   "execution_count": null,
   "id": "5d24207d",
   "metadata": {},
   "outputs": [],
   "source": [
    "# limit to Rhone department\n",
    "df = df[ df[\"code_departement\"] == \"69\"]\n",
    "print (df.info())\n"
   ]
  },
  {
   "cell_type": "code",
   "execution_count": null,
   "id": "f1ba43b4",
   "metadata": {},
   "outputs": [],
   "source": [
    "print (df.lot1_numero.value_counts())\n",
    "columns = [\"lot1_numero\",\"lot1_surface_carrez\",\"surface_reelle_bati\",\"nombre_pieces_principales\",\"code_nature_culture\",\"surface_terrain\",\"valeur_fonciere\"]\n",
    "for column in columns :\n",
    "    print (df[column].value_counts())\n",
    "columns = [\"code_postal\",\"code_commune\",\"code_departement\"]\n",
    "for column in columns :\n",
    "    print (df[column].value_counts())\n",
    "\n"
   ]
  },
  {
   "cell_type": "code",
   "execution_count": null,
   "id": "42cd1817",
   "metadata": {},
   "outputs": [],
   "source": [
    "# clean attributes\n",
    "df['lot1_surface_carrez'] = df['lot1_surface_carrez'].apply(lambda x : 500 if x > 500 else x)\n",
    "df['lot4_surface_carrez'] = df['lot4_surface_carrez'].apply(lambda x : 300 if x > 300 else x)\n",
    "df['numero_disposition'] = df['numero_disposition'].apply(lambda x : 12 if x > 12 else x)\n",
    "df['nombre_pieces_principales'] = df['nombre_pieces_principales'].apply(lambda x : 15 if x > 15 else x)\n",
    "df['nombre_lots'] = df['nombre_lots'].apply(lambda x : 15 if x > 15 else x)\n",
    "df['surface_terrain'] = df['surface_terrain'].apply(lambda x : 15000 if x > 15000 else x)\n",
    "\n"
   ]
  },
  {
   "cell_type": "code",
   "execution_count": null,
   "id": "601f7bde",
   "metadata": {},
   "outputs": [],
   "source": [
    "\n",
    "columns = df.columns\n",
    "print (type(columns))\n",
    "fig , axes = plt.subplots(nrows = 9, ncols = 4, figsize = (25,50))\n",
    "index = 0\n",
    "for column in columns :\n",
    "    if column not in [\"id_mutation\",\"date_mutation\"] :\n",
    "        sns.scatterplot(ax=axes[int(index/4),index%4],y=df[\"valeur_fonciere\"],x=df[column])\n",
    "        index = index +1"
   ]
  }
 ],
 "metadata": {
  "kernelspec": {
   "display_name": "immocv-Hc0iPIjN-py3.11",
   "language": "python",
   "name": "python3"
  },
  "language_info": {
   "codemirror_mode": {
    "name": "ipython",
    "version": 3
   },
   "file_extension": ".py",
   "mimetype": "text/x-python",
   "name": "python",
   "nbconvert_exporter": "python",
   "pygments_lexer": "ipython3",
   "version": "3.11.13"
  }
 },
 "nbformat": 4,
 "nbformat_minor": 5
}
