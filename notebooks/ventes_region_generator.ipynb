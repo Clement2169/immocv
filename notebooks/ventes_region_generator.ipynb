{
 "cells": [
  {
   "cell_type": "code",
   "execution_count": 3,
   "id": "88c1a4ef",
   "metadata": {},
   "outputs": [],
   "source": [
    "import pandas as pd\n",
    "\n",
    "regions = {\"auvergne-rhone-alpes\": [1,3,7,15,26,38,42,43,63,69,73,74],\n",
    "            \"bourgogne\" : [21,25,39,58,70,71,89,90],\n",
    "            \"bretagne\" : [22,29,35,56],\n",
    "            \"centre\" : [18,28,36,37,41,45],\n",
    "            \"grand-est\" : [8,10,51,52,54,55,57,67,68,88],\n",
    "            \"haut-de-france\" : [2,59,60,62,80],\n",
    "            \"ile-de-france\" : [75,77,78,91,92,93,94,95],\n",
    "            \"normandie\" : [14,27,50,61,76],\n",
    "            \"nouvelle-aquitaine\" : [16,17,19,23,24,33,40,47,64,79,86,87],\n",
    "            \"occitanie\" : [9,11,12,30,31,34,46,48,65,66,81,82],\n",
    "            \"pays-de-la-loire\" : [44,49,53,72,85],\n",
    "            \"provence\" : [4,5,6,13,83,84]\n",
    "            # \"corse\" : [\"2A\",\"2B\"]\n",
    "}\n",
    "\n",
    "immo_vis_dir = \"../../data/immo_vis/\"\n",
    "file_ref = \"df_annonces_gps_iris_ventes_\"\n",
    "region_ref = \"ventes-\"\n",
    "parquet_extension = \".parquet\"\n",
    "metropole_file = \"ventes-metropole\" + parquet_extension\n",
    "metropole_appartement_file = \"ventes-metropole-appartement\" + parquet_extension\n",
    "metropole_maison_file = \"ventes-metropole-maison\" + parquet_extension"
   ]
  },
  {
   "cell_type": "code",
   "execution_count": null,
   "id": "0bc2e534",
   "metadata": {},
   "outputs": [],
   "source": [
    "\n",
    "def read_immocv_region (regions, region,remote_url,verbose=False) :\n",
    "    df = pd.DataFrame()\n",
    "    for departement in regions[region] :\n",
    "        # copy remote file\n",
    "        dep_file = f\"{file_ref}{departement:0>2}\" + \".csv\"\n",
    "        repo_url = \"https://raw.githubusercontent.com/klopstock-dviz/immo_vis/refs/heads/master/data/annonces_git/\"\n",
    "        if verbose :\n",
    "            print (dep_file)\n",
    "        if remote_url :\n",
    "            file_to_read = repo_url +dep_file\n",
    "        else :\n",
    "            file_to_read = immo_vis_dir + region + \"/\" + dep_file \n",
    "        if verbose :\n",
    "                print (file_to_read)\n",
    "        df1 = pd.read_csv(file_to_read,delimiter=';',header=0,encoding=\"UTF-8\",low_memory=False)\n",
    "        df = pd.concat([df, df1], ignore_index=True)    \n",
    "    store_file = \"ventes-\" + region + parquet_extension\n",
    "    output_file = immo_vis_dir + store_file\n",
    "    df.to_parquet(path=output_file,index=True)\n",
    "    return output_file"
   ]
  },
  {
   "cell_type": "code",
   "execution_count": null,
   "id": "70e5fd74",
   "metadata": {},
   "outputs": [],
   "source": [
    "def read_immocv_all_regions (regions, remote_url,verbose=False) :\n",
    "    for region in regions :\n",
    "        print (f\"read_immocv_all_regions process {region}\" )\n",
    "        read_immocv_region(regions,region,remote_url,verbose)"
   ]
  },
  {
   "cell_type": "code",
   "execution_count": null,
   "id": "a2468f05",
   "metadata": {},
   "outputs": [],
   "source": [
    "def build_immocv_metropole (regions, input_dir, verbose=False) :\n",
    "    df = pd.DataFrame()\n",
    "    for region in regions :\n",
    "        # copy remote file\n",
    "        dep_file = f\"{region_ref}{region}\" + parquet_extension\n",
    "        file_to_read = input_dir + \"/\" + dep_file \n",
    "        if verbose :\n",
    "                print (f\"read region {region} {file_to_read}\")\n",
    "        df1 = pd.read_parquet(file_to_read)\n",
    "        df = pd.concat([df, df1], ignore_index=True)    \n",
    "    store_file = \"ventes-\" + \"metropole\" + parquet_extension\n",
    "    output_file = input_dir + store_file\n",
    "    if verbose :\n",
    "        print (f\"write metropole file {df.shape} {output_file}\")\n",
    "    df.to_parquet(path=output_file,index=True)\n",
    "    return output_file"
   ]
  },
  {
   "cell_type": "code",
   "execution_count": null,
   "id": "dc6b623b",
   "metadata": {},
   "outputs": [],
   "source": [
    "# read one region\n",
    "\n",
    "region = \"auvergne-rhone-alpes\"\n",
    "remote_url = True\n",
    "output_file = read_immocv_region (regions, region,remote_url)\n",
    "\n",
    "dfr= pd.read_parquet(output_file)\n",
    "print (dfr.shape)\n",
    "display(dfr.head(10))"
   ]
  },
  {
   "cell_type": "code",
   "execution_count": null,
   "id": "75b1b8be",
   "metadata": {},
   "outputs": [],
   "source": [
    "# read all regions\n",
    "remote_url = True\n",
    "read_immocv_all_regions (regions, remote_url)\n"
   ]
  },
  {
   "cell_type": "code",
   "execution_count": null,
   "id": "cda79f93",
   "metadata": {},
   "outputs": [],
   "source": [
    "#  build metropole file\n",
    "remote_url = True\n",
    "output_file = build_immocv_metropole (regions,immo_vis_dir,verbose=True)\n",
    "\n",
    "dfr= pd.read_parquet(output_file)\n",
    "print (dfr.shape)\n",
    "display(dfr.head(10))"
   ]
  },
  {
   "cell_type": "code",
   "execution_count": null,
   "id": "d3a96148",
   "metadata": {},
   "outputs": [
    {
     "name": "stdout",
     "output_type": "stream",
     "text": [
      "(4869119, 59)\n",
      "typedebien\n",
      "m                     2690554\n",
      "a                     2012384\n",
      "mn                      85388\n",
      "an                      80339\n",
      "l                         406\n",
      "Maison/Villa neuve         24\n",
      "h                          24\n",
      "Name: count, dtype: int64\n",
      "write metropole maison file (2775942, 59) ../../data/immo_vis/ventes-metropole-maison.parquet\n"
     ]
    }
   ],
   "source": [
    "# read metropole file\n",
    "\n",
    "start_path = Path(immo_vis_dir)\n",
    "final_path = start_path / metropole_file\n",
    "final_path.as_posix\n",
    "df= pd.read_parquet(final_path.as_posix())\n",
    "print (df.shape)\n",
    "# display(df.head(10))\n",
    "print (df.typedebien.value_counts())\n",
    "# dfa = df [(df.typedebien == \"a\") | (df.typedebien == \"an\")]\n",
    "# appart_path = start_path / metropole_appartement_file\n",
    "# print (f\"write metropole appartement file {dfa.shape} {appart_path.as_posix()}\")\n",
    "# dfa.to_parquet(path=appart_path.as_posix(),index=True)\n",
    "\n",
    "dfm = df [(df.typedebien == \"m\") | (df.typedebien == \"mn\")]\n",
    "maison_path = start_path / metropole_maison_file\n",
    "print (f\"write metropole maison file {dfm.shape} {maison_path.as_posix()}\")\n",
    "dfm.to_parquet(path=maison_path.as_posix(),index=True)\n"
   ]
  },
  {
   "cell_type": "code",
   "execution_count": 2,
   "id": "38b73c4f",
   "metadata": {},
   "outputs": [
    {
     "ename": "NameError",
     "evalue": "name 'Path' is not defined",
     "output_type": "error",
     "traceback": [
      "\u001b[31m---------------------------------------------------------------------------\u001b[39m",
      "\u001b[31mNameError\u001b[39m                                 Traceback (most recent call last)",
      "\u001b[36mCell\u001b[39m\u001b[36m \u001b[39m\u001b[32mIn[2]\u001b[39m\u001b[32m, line 1\u001b[39m\n\u001b[32m----> \u001b[39m\u001b[32m1\u001b[39m start_path = \u001b[43mPath\u001b[49m(immo_vis_dir)\n\u001b[32m      2\u001b[39m final_path = start_path / metropole_file\n\u001b[32m      3\u001b[39m final_path.as_posix\n",
      "\u001b[31mNameError\u001b[39m: name 'Path' is not defined"
     ]
    }
   ],
   "source": [
    "start_path = Path(immo_vis_dir)\n",
    "final_path = start_path / metropole_file\n",
    "final_path.as_posix\n",
    "df= pd.read_parquet(final_path.as_posix())\n",
    "print (df.info())"
   ]
  }
 ],
 "metadata": {
  "kernelspec": {
   "display_name": "immocv-Hc0iPIjN-py3.11",
   "language": "python",
   "name": "python3"
  },
  "language_info": {
   "codemirror_mode": {
    "name": "ipython",
    "version": 3
   },
   "file_extension": ".py",
   "mimetype": "text/x-python",
   "name": "python",
   "nbconvert_exporter": "python",
   "pygments_lexer": "ipython3",
   "version": "3.11.13"
  }
 },
 "nbformat": 4,
 "nbformat_minor": 5
}
